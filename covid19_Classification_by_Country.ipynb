{
  "nbformat": 4,
  "nbformat_minor": 0,
  "metadata": {
    "colab": {
      "name": "covid19-Classification-by -Country.ipynb",
      "provenance": [],
      "collapsed_sections": [],
      "authorship_tag": "ABX9TyO6/wNxsPbAISIT2cEo9Thu",
      "include_colab_link": true
    },
    "kernelspec": {
      "name": "python3",
      "display_name": "Python 3"
    }
  },
  "cells": [
    {
      "cell_type": "markdown",
      "metadata": {
        "id": "view-in-github",
        "colab_type": "text"
      },
      "source": [
        "<a href=\"https://colab.research.google.com/github/IshantWadhwa4/COVID-19-EDA/blob/master/covid19_Classification_by_Country.ipynb\" target=\"_parent\"><img src=\"https://colab.research.google.com/assets/colab-badge.svg\" alt=\"Open In Colab\"/></a>"
      ]
    },
    {
      "cell_type": "code",
      "metadata": {
        "id": "idnQ3CEUyBft",
        "colab_type": "code",
        "colab": {}
      },
      "source": [
        "import pandas as pd\n",
        "import numpy as np"
      ],
      "execution_count": 0,
      "outputs": []
    },
    {
      "cell_type": "code",
      "metadata": {
        "id": "v6jZC-NmyBiz",
        "colab_type": "code",
        "colab": {}
      },
      "source": [
        "# world data of confirmed cases\n",
        "url_confirmed = 'https://raw.githubusercontent.com/CSSEGISandData/COVID-19/master/csse_covid_19_data/csse_covid_19_time_series/time_series_covid19_confirmed_global.csv'\n",
        "data_confirmed = pd.read_csv(url_confirmed)\n",
        "data_confirmed['Province/State'].fillna(data_confirmed['Country/Region'],inplace = True)"
      ],
      "execution_count": 0,
      "outputs": []
    },
    {
      "cell_type": "code",
      "metadata": {
        "id": "iXifhh0GyBla",
        "colab_type": "code",
        "colab": {}
      },
      "source": [
        "# world data of death cases\n",
        "url_Deaths = 'https://raw.githubusercontent.com/CSSEGISandData/COVID-19/master/csse_covid_19_data/csse_covid_19_time_series/time_series_covid19_deaths_global.csv'\n",
        "data_death = pd.read_csv(url_Deaths)\n",
        "data_death['Province/State'].fillna(data_death['Country/Region'],inplace = True)\n"
      ],
      "execution_count": 0,
      "outputs": []
    },
    {
      "cell_type": "code",
      "metadata": {
        "id": "k_W-1fdSyBoh",
        "colab_type": "code",
        "colab": {}
      },
      "source": [
        "# world data of Recovered cases\n",
        "url_Recovered = 'https://raw.githubusercontent.com/CSSEGISandData/COVID-19/master/csse_covid_19_data/csse_covid_19_time_series/time_series_covid19_recovered_global.csv'\n",
        "data_Recovered = pd.read_csv(url_Recovered)\n",
        "data_Recovered['Province/State'].fillna(data_Recovered['Country/Region'],inplace = True)"
      ],
      "execution_count": 0,
      "outputs": []
    },
    {
      "cell_type": "markdown",
      "metadata": {
        "id": "VCqUWxaX3rJD",
        "colab_type": "text"
      },
      "source": [
        "### list of country having more than 800 cases\n",
        "\n"
      ]
    },
    {
      "cell_type": "code",
      "metadata": {
        "id": "DqIPOnb43aKZ",
        "colab_type": "code",
        "colab": {}
      },
      "source": [
        "data_confirmed_number = data_confirmed.melt(id_vars=[\"Province/State\", \"Country/Region\",\"Lat\",\"Long\"], \n",
        "        var_name=\"Date\", \n",
        "        value_name=\"confirmed\")"
      ],
      "execution_count": 0,
      "outputs": []
    },
    {
      "cell_type": "code",
      "metadata": {
        "id": "8awGlNCR3qGG",
        "colab_type": "code",
        "colab": {}
      },
      "source": [
        "data_500 = data_confirmed_number[data_confirmed_number['confirmed'] >  800]"
      ],
      "execution_count": 0,
      "outputs": []
    },
    {
      "cell_type": "code",
      "metadata": {
        "id": "WvaBCd2X55Ym",
        "colab_type": "code",
        "colab": {}
      },
      "source": [
        "country = list(set(data_500['Country/Region']))"
      ],
      "execution_count": 0,
      "outputs": []
    },
    {
      "cell_type": "markdown",
      "metadata": {
        "id": "hlMRAni56z44",
        "colab_type": "text"
      },
      "source": [
        "#### Get data for above countries"
      ]
    },
    {
      "cell_type": "code",
      "metadata": {
        "id": "RdYaItA-7D2r",
        "colab_type": "code",
        "colab": {}
      },
      "source": [
        "data_confirmed = data_confirmed[data_confirmed['Country/Region'].isin(country)]"
      ],
      "execution_count": 0,
      "outputs": []
    },
    {
      "cell_type": "code",
      "metadata": {
        "id": "ClfvIBoC929b",
        "colab_type": "code",
        "colab": {}
      },
      "source": [
        "confirmed_cases = data_confirmed.drop([\"Province/State\",\"Lat\",\"Long\"],axis=1)"
      ],
      "execution_count": 0,
      "outputs": []
    },
    {
      "cell_type": "code",
      "metadata": {
        "id": "wp2eNfg_9vF9",
        "colab_type": "code",
        "colab": {}
      },
      "source": [
        "confirmed_cases = confirmed_cases.groupby('Country/Region').sum()"
      ],
      "execution_count": 0,
      "outputs": []
    },
    {
      "cell_type": "code",
      "metadata": {
        "id": "joAyyKIjyg1y",
        "colab_type": "code",
        "colab": {}
      },
      "source": [
        "confirmed_cases_country = confirmed_cases.index.tolist()"
      ],
      "execution_count": 0,
      "outputs": []
    },
    {
      "cell_type": "code",
      "metadata": {
        "id": "QEcsFwqb2xZ7",
        "colab_type": "code",
        "colab": {}
      },
      "source": [
        "confirmed_cases = confirmed_cases.values"
      ],
      "execution_count": 0,
      "outputs": []
    },
    {
      "cell_type": "markdown",
      "metadata": {
        "id": "Nc9RrwX8_Ju0",
        "colab_type": "text"
      },
      "source": [
        "#### prepare Data"
      ]
    },
    {
      "cell_type": "code",
      "metadata": {
        "id": "Fq25f4UM2t1Z",
        "colab_type": "code",
        "colab": {}
      },
      "source": [
        "from sklearn.preprocessing import normalize # to rescale the data\n",
        "from scipy.cluster.hierarchy import linkage, dendrogram\n",
        "import matplotlib.pyplot as plt"
      ],
      "execution_count": 0,
      "outputs": []
    },
    {
      "cell_type": "code",
      "metadata": {
        "id": "g3qvA1K6_Pqm",
        "colab_type": "code",
        "colab": {}
      },
      "source": [
        "normalize_confirmed_cases = normalize(confirmed_cases)"
      ],
      "execution_count": 0,
      "outputs": []
    },
    {
      "cell_type": "code",
      "metadata": {
        "id": "3mHn6uOa_WPZ",
        "colab_type": "code",
        "colab": {
          "base_uri": "https://localhost:8080/",
          "height": 257
        },
        "outputId": "61913b09-8c5a-41b0-9753-47f50af13c2f"
      },
      "source": [
        "normalize_confirmed_cases"
      ],
      "execution_count": 63,
      "outputs": [
        {
          "output_type": "execute_result",
          "data": {
            "text/plain": [
              "array([[0.00000000e+00, 0.00000000e+00, 0.00000000e+00, ...,\n",
              "        4.00624524e-01, 4.48100668e-01, 5.18958458e-01],\n",
              "       [0.00000000e+00, 0.00000000e+00, 0.00000000e+00, ...,\n",
              "        4.04597180e-01, 4.48400725e-01, 4.84357110e-01],\n",
              "       [0.00000000e+00, 0.00000000e+00, 0.00000000e+00, ...,\n",
              "        3.81839421e-01, 4.46081531e-01, 5.59377911e-01],\n",
              "       ...,\n",
              "       [0.00000000e+00, 0.00000000e+00, 0.00000000e+00, ...,\n",
              "        3.39377223e-01, 5.32866194e-01, 6.92221054e-01],\n",
              "       [4.78257398e-06, 4.78257398e-06, 9.56514797e-06, ...,\n",
              "        4.00951873e-01, 4.86182124e-01, 5.80977523e-01],\n",
              "       [0.00000000e+00, 0.00000000e+00, 0.00000000e+00, ...,\n",
              "        3.81038509e-01, 4.75652965e-01, 5.58460775e-01]])"
            ]
          },
          "metadata": {
            "tags": []
          },
          "execution_count": 63
        }
      ]
    },
    {
      "cell_type": "code",
      "metadata": {
        "id": "C1kn6nPU_Xss",
        "colab_type": "code",
        "colab": {}
      },
      "source": [
        "mergings = linkage(normalize_confirmed_cases, method='complete')"
      ],
      "execution_count": 0,
      "outputs": []
    },
    {
      "cell_type": "code",
      "metadata": {
        "id": "T0qy4xqP_lr3",
        "colab_type": "code",
        "colab": {
          "base_uri": "https://localhost:8080/",
          "height": 390
        },
        "outputId": "6c37c93c-4d58-4e25-997e-33456cab9f2f"
      },
      "source": [
        "# the first line is written for you - it sets the size of your plot\n",
        "plt.figure(figsize=(10, 5))\n",
        "\n",
        "dendrogram(\n",
        "    mergings,\n",
        "    labels=confirmed_cases_country,\n",
        "    leaf_rotation=90.,\n",
        "    leaf_font_size=10\n",
        ")\n",
        "plt.show()"
      ],
      "execution_count": 65,
      "outputs": [
        {
          "output_type": "display_data",
          "data": {
            "image/png": "[encoded data removed]",
            "text/plain": [
              "<Figure size 720x360 with 1 Axes>"
            ]
          },
          "metadata": {
            "tags": []
          }
        }
      ]
    },
    {
      "cell_type": "code",
      "metadata": {
        "id": "iM4eCzMX_vW2",
        "colab_type": "code",
        "colab": {}
      },
      "source": [
        "from sklearn.cluster import AgglomerativeClustering"
      ],
      "execution_count": 0,
      "outputs": []
    },
    {
      "cell_type": "code",
      "metadata": {
        "id": "YXNcIQl-C-y2",
        "colab_type": "code",
        "colab": {}
      },
      "source": [
        "model = AgglomerativeClustering(n_clusters=6, affinity='euclidean', linkage='complete')\n",
        "model.fit(normalize_confirmed_cases)\n",
        "labels = model.labels_"
      ],
      "execution_count": 0,
      "outputs": []
    },
    {
      "cell_type": "code",
      "metadata": {
        "id": "OAa9vPK4Dca4",
        "colab_type": "code",
        "colab": {
          "base_uri": "https://localhost:8080/",
          "height": 35
        },
        "outputId": "4009af23-b332-48a1-91a4-9b2bfb619096"
      },
      "source": [
        "len(labels)"
      ],
      "execution_count": 69,
      "outputs": [
        {
          "output_type": "execute_result",
          "data": {
            "text/plain": [
              "43"
            ]
          },
          "metadata": {
            "tags": []
          },
          "execution_count": 69
        }
      ]
    },
    {
      "cell_type": "code",
      "metadata": {
        "id": "F9C7m1sQDeG3",
        "colab_type": "code",
        "colab": {}
      },
      "source": [
        "country_classification = pd.DataFrame(confirmed_cases)"
      ],
      "execution_count": 0,
      "outputs": []
    },
    {
      "cell_type": "code",
      "metadata": {
        "id": "Q46AU42CDt1J",
        "colab_type": "code",
        "colab": {}
      },
      "source": [
        "country_classification.columns = data_confirmed.columns[4:] "
      ],
      "execution_count": 0,
      "outputs": []
    },
    {
      "cell_type": "code",
      "metadata": {
        "id": "CW4jXPacF265",
        "colab_type": "code",
        "colab": {}
      },
      "source": [
        "country_classification['Country'] = confirmed_cases_country\n",
        "country_classification['labels'] = labels"
      ],
      "execution_count": 0,
      "outputs": []
    },
    {
      "cell_type": "code",
      "metadata": {
        "id": "xL5f5HylGFnS",
        "colab_type": "code",
        "colab": {}
      },
      "source": [
        "country_classification['Total_cases'] = country_classification['3/28/20']"
      ],
      "execution_count": 0,
      "outputs": []
    },
    {
      "cell_type": "code",
      "metadata": {
        "id": "m-1_bSE1M0GF",
        "colab_type": "code",
        "colab": {
          "base_uri": "https://localhost:8080/",
          "height": 830
        },
        "outputId": "abf075f8-84f4-435e-db38-edc89dab2666"
      },
      "source": [
        "country_classification['Total_cases']"
      ],
      "execution_count": 83,
      "outputs": [
        {
          "output_type": "execute_result",
          "data": {
            "text/plain": [
              "0       3640\n",
              "1       8271\n",
              "2       9134\n",
              "3       3904\n",
              "4       5576\n",
              "5       1909\n",
              "6      81999\n",
              "7       2631\n",
              "8       2366\n",
              "9       1823\n",
              "10      1167\n",
              "11     38105\n",
              "12     57695\n",
              "13      1061\n",
              "14       963\n",
              "15       987\n",
              "16      1155\n",
              "17     35408\n",
              "18      2415\n",
              "19      3619\n",
              "20     92472\n",
              "21      1693\n",
              "22      9478\n",
              "23      1831\n",
              "24      2320\n",
              "25      9819\n",
              "26      4015\n",
              "27      1495\n",
              "28      1075\n",
              "29      1638\n",
              "30      5170\n",
              "31      1452\n",
              "32      1264\n",
              "33      1203\n",
              "34       802\n",
              "35      1187\n",
              "36     73235\n",
              "37      3447\n",
              "38     14076\n",
              "39      1245\n",
              "40      7402\n",
              "41    121478\n",
              "42     17312\n",
              "Name: Total_cases, dtype: int64"
            ]
          },
          "metadata": {
            "tags": []
          },
          "execution_count": 83
        }
      ]
    },
    {
      "cell_type": "code",
      "metadata": {
        "id": "mHhw2PSnLd2G",
        "colab_type": "code",
        "colab": {}
      },
      "source": [
        "import seaborn as sns\n",
        "% matplotlib inline\n",
        "\n"
      ],
      "execution_count": 0,
      "outputs": []
    },
    {
      "cell_type": "code",
      "metadata": {
        "id": "Dd9-vFieML_k",
        "colab_type": "code",
        "colab": {
          "base_uri": "https://localhost:8080/",
          "height": 542
        },
        "outputId": "447a73ec-4a65-497b-8d98-cfdf3bf80e2a"
      },
      "source": [
        "import plotly.express as px\n",
        "fig = px.histogram(country_classification, x=\"Country\", color=\"labels\",y=\"Total_cases\",histfunc='max')\n",
        "fig.show()"
      ],
      "execution_count": 84,
      "outputs": [
        {
          "output_type": "display_data",
          "data": {
            "text/html": [
              "<html>\n",
              "<head><meta charset=\"utf-8\" /></head>\n",
              "<body>\n",
              "    <div>\n",
              "            <script src=\"https://cdnjs.cloudflare.com/ajax/libs/mathjax/2.7.5/MathJax.js?config=TeX-AMS-MML_SVG\"></script><script type=\"text/javascript\">if (window.MathJax) {MathJax.Hub.Config({SVG: {font: \"STIX-Web\"}});}</script>\n",
              "                <script type=\"text/javascript\">window.PlotlyConfig = {MathJaxConfig: 'local'};</script>\n",
              "        <script src=\"https://cdn.plot.ly/plotly-latest.min.js\"></script>    \n",
              "            <div id=\"4c196436-01c4-4fe8-8ab7-2d9fd333700d\" class=\"plotly-graph-div\" style=\"height:525px; width:100%;\"></div>\n",
              "            <script type=\"text/javascript\">\n",
              "                \n",
              "                    window.PLOTLYENV=window.PLOTLYENV || {};\n",
              "                    \n",
              "                if (document.getElementById(\"4c196436-01c4-4fe8-8ab7-2d9fd333700d\")) {\n",
              "                    Plotly.newPlot(\n",
              "                        '4c196436-01c4-4fe8-8ab7-2d9fd333700d',\n",
              "                        [{\"alignmentgroup\": \"True\", \"bingroup\": \"x\", \"histfunc\": \"max\", \"hoverlabel\": {\"namelength\": 0}, \"hovertemplate\": \"labels=1<br>Country=%{x}<br>max of Total_cases=%{y}\", \"legendgroup\": \"labels=1\", \"marker\": {\"color\": \"#636efa\"}, \"name\": \"labels=1\", \"offsetgroup\": \"labels=1\", \"orientation\": \"v\", \"showlegend\": true, \"type\": \"histogram\", \"x\": [\"Australia\", \"Austria\", \"Belgium\", \"Brazil\", \"Czechia\", \"Ecuador\", \"France\", \"Germany\", \"India\", \"Indonesia\", \"Ireland\", \"Luxembourg\", \"Netherlands\", \"Pakistan\", \"Philippines\", \"Poland\", \"Romania\", \"Saudi Arabia\", \"Spain\", \"Switzerland\", \"Thailand\", \"United Kingdom\"], \"xaxis\": \"x\", \"y\": [3640, 8271, 9134, 3904, 2631, 1823, 38105, 57695, 987, 1155, 2415, 1831, 9819, 1495, 1075, 1638, 1452, 1203, 73235, 14076, 1245, 17312], \"yaxis\": \"y\"}, {\"alignmentgroup\": \"True\", \"bingroup\": \"x\", \"histfunc\": \"max\", \"hoverlabel\": {\"namelength\": 0}, \"hovertemplate\": \"labels=0<br>Country=%{x}<br>max of Total_cases=%{y}\", \"legendgroup\": \"labels=0\", \"marker\": {\"color\": \"#EF553B\"}, \"name\": \"labels=0\", \"offsetgroup\": \"labels=0\", \"orientation\": \"v\", \"showlegend\": true, \"type\": \"histogram\", \"x\": [\"Canada\", \"Chile\", \"Israel\", \"Portugal\", \"Russia\", \"South Africa\", \"Turkey\", \"US\"], \"xaxis\": \"x\", \"y\": [5576, 1909, 3619, 5170, 1264, 1187, 7402, 121478], \"yaxis\": \"y\"}, {\"alignmentgroup\": \"True\", \"bingroup\": \"x\", \"histfunc\": \"max\", \"hoverlabel\": {\"namelength\": 0}, \"hovertemplate\": \"labels=3<br>Country=%{x}<br>max of Total_cases=%{y}\", \"legendgroup\": \"labels=3\", \"marker\": {\"color\": \"#00cc96\"}, \"name\": \"labels=3\", \"offsetgroup\": \"labels=3\", \"orientation\": \"v\", \"showlegend\": true, \"type\": \"histogram\", \"x\": [\"China\"], \"xaxis\": \"x\", \"y\": [81999], \"yaxis\": \"y\"}, {\"alignmentgroup\": \"True\", \"bingroup\": \"x\", \"histfunc\": \"max\", \"hoverlabel\": {\"namelength\": 0}, \"hovertemplate\": \"labels=2<br>Country=%{x}<br>max of Total_cases=%{y}\", \"legendgroup\": \"labels=2\", \"marker\": {\"color\": \"#ab63fa\"}, \"name\": \"labels=2\", \"offsetgroup\": \"labels=2\", \"orientation\": \"v\", \"showlegend\": true, \"type\": \"histogram\", \"x\": [\"Denmark\", \"Finland\", \"Greece\", \"Iceland\", \"Iran\", \"Italy\", \"Malaysia\", \"Norway\", \"Sweden\"], \"xaxis\": \"x\", \"y\": [2366, 1167, 1061, 963, 35408, 92472, 2320, 4015, 3447], \"yaxis\": \"y\"}, {\"alignmentgroup\": \"True\", \"bingroup\": \"x\", \"histfunc\": \"max\", \"hoverlabel\": {\"namelength\": 0}, \"hovertemplate\": \"labels=5<br>Country=%{x}<br>max of Total_cases=%{y}\", \"legendgroup\": \"labels=5\", \"marker\": {\"color\": \"#FFA15A\"}, \"name\": \"labels=5\", \"offsetgroup\": \"labels=5\", \"orientation\": \"v\", \"showlegend\": true, \"type\": \"histogram\", \"x\": [\"Japan\", \"Singapore\"], \"xaxis\": \"x\", \"y\": [1693, 802], \"yaxis\": \"y\"}, {\"alignmentgroup\": \"True\", \"bingroup\": \"x\", \"histfunc\": \"max\", \"hoverlabel\": {\"namelength\": 0}, \"hovertemplate\": \"labels=4<br>Country=%{x}<br>max of Total_cases=%{y}\", \"legendgroup\": \"labels=4\", \"marker\": {\"color\": \"#19d3f3\"}, \"name\": \"labels=4\", \"offsetgroup\": \"labels=4\", \"orientation\": \"v\", \"showlegend\": true, \"type\": \"histogram\", \"x\": [\"Korea, South\"], \"xaxis\": \"x\", \"y\": [9478], \"yaxis\": \"y\"}],\n",
              "                        {\"barmode\": \"relative\", \"legend\": {\"tracegroupgap\": 0}, \"margin\": {\"t\": 60}, \"template\": {\"data\": {\"bar\": [{\"error_x\": {\"color\": \"#2a3f5f\"}, \"error_y\": {\"color\": \"#2a3f5f\"}, \"marker\": {\"line\": {\"color\": \"#E5ECF6\", \"width\": 0.5}}, \"type\": \"bar\"}], \"barpolar\": [{\"marker\": {\"line\": {\"color\": \"#E5ECF6\", \"width\": 0.5}}, \"type\": \"barpolar\"}], \"carpet\": [{\"aaxis\": {\"endlinecolor\": \"#2a3f5f\", \"gridcolor\": \"white\", \"linecolor\": \"white\", \"minorgridcolor\": \"white\", \"startlinecolor\": \"#2a3f5f\"}, \"baxis\": {\"endlinecolor\": \"#2a3f5f\", \"gridcolor\": \"white\", \"linecolor\": \"white\", \"minorgridcolor\": \"white\", \"startlinecolor\": \"#2a3f5f\"}, \"type\": \"carpet\"}], \"choropleth\": [{\"colorbar\": {\"outlinewidth\": 0, \"ticks\": \"\"}, \"type\": \"choropleth\"}], \"contour\": [{\"colorbar\": {\"outlinewidth\": 0, \"ticks\": \"\"}, \"colorscale\": [[0.0, \"#0d0887\"], [0.1111111111111111, \"#46039f\"], [0.2222222222222222, \"#7201a8\"], [0.3333333333333333, \"#9c179e\"], [0.4444444444444444, \"#bd3786\"], [0.5555555555555556, \"#d8576b\"], [0.6666666666666666, \"#ed7953\"], [0.7777777777777778, \"#fb9f3a\"], [0.8888888888888888, \"#fdca26\"], [1.0, \"#f0f921\"]], \"type\": \"contour\"}], \"contourcarpet\": [{\"colorbar\": {\"outlinewidth\": 0, \"ticks\": \"\"}, \"type\": \"contourcarpet\"}], \"heatmap\": [{\"colorbar\": {\"outlinewidth\": 0, \"ticks\": \"\"}, \"colorscale\": [[0.0, \"#0d0887\"], [0.1111111111111111, \"#46039f\"], [0.2222222222222222, \"#7201a8\"], [0.3333333333333333, \"#9c179e\"], [0.4444444444444444, \"#bd3786\"], [0.5555555555555556, \"#d8576b\"], [0.6666666666666666, \"#ed7953\"], [0.7777777777777778, \"#fb9f3a\"], [0.8888888888888888, \"#fdca26\"], [1.0, \"#f0f921\"]], \"type\": \"heatmap\"}], \"heatmapgl\": [{\"colorbar\": {\"outlinewidth\": 0, \"ticks\": \"\"}, \"colorscale\": [[0.0, \"#0d0887\"], [0.1111111111111111, \"#46039f\"], [0.2222222222222222, \"#7201a8\"], [0.3333333333333333, \"#9c179e\"], [0.4444444444444444, \"#bd3786\"], [0.5555555555555556, \"#d8576b\"], [0.6666666666666666, \"#ed7953\"], [0.7777777777777778, \"#fb9f3a\"], [0.8888888888888888, \"#fdca26\"], [1.0, \"#f0f921\"]], \"type\": \"heatmapgl\"}], \"histogram\": [{\"marker\": {\"colorbar\": {\"outlinewidth\": 0, \"ticks\": \"\"}}, \"type\": \"histogram\"}], \"histogram2d\": [{\"colorbar\": {\"outlinewidth\": 0, \"ticks\": \"\"}, \"colorscale\": [[0.0, \"#0d0887\"], [0.1111111111111111, \"#46039f\"], [0.2222222222222222, \"#7201a8\"], [0.3333333333333333, \"#9c179e\"], [0.4444444444444444, \"#bd3786\"], [0.5555555555555556, \"#d8576b\"], [0.6666666666666666, \"#ed7953\"], [0.7777777777777778, \"#fb9f3a\"], [0.8888888888888888, \"#fdca26\"], [1.0, \"#f0f921\"]], \"type\": \"histogram2d\"}], \"histogram2dcontour\": [{\"colorbar\": {\"outlinewidth\": 0, \"ticks\": \"\"}, \"colorscale\": [[0.0, \"#0d0887\"], [0.1111111111111111, \"#46039f\"], [0.2222222222222222, \"#7201a8\"], [0.3333333333333333, \"#9c179e\"], [0.4444444444444444, \"#bd3786\"], [0.5555555555555556, \"#d8576b\"], [0.6666666666666666, \"#ed7953\"], [0.7777777777777778, \"#fb9f3a\"], [0.8888888888888888, \"#fdca26\"], [1.0, \"#f0f921\"]], \"type\": \"histogram2dcontour\"}], \"mesh3d\": [{\"colorbar\": {\"outlinewidth\": 0, \"ticks\": \"\"}, \"type\": \"mesh3d\"}], \"parcoords\": [{\"line\": {\"colorbar\": {\"outlinewidth\": 0, \"ticks\": \"\"}}, \"type\": \"parcoords\"}], \"pie\": [{\"automargin\": true, \"type\": \"pie\"}], \"scatter\": [{\"marker\": {\"colorbar\": {\"outlinewidth\": 0, \"ticks\": \"\"}}, \"type\": \"scatter\"}], \"scatter3d\": [{\"line\": {\"colorbar\": {\"outlinewidth\": 0, \"ticks\": \"\"}}, \"marker\": {\"colorbar\": {\"outlinewidth\": 0, \"ticks\": \"\"}}, \"type\": \"scatter3d\"}], \"scattercarpet\": [{\"marker\": {\"colorbar\": {\"outlinewidth\": 0, \"ticks\": \"\"}}, \"type\": \"scattercarpet\"}], \"scattergeo\": [{\"marker\": {\"colorbar\": {\"outlinewidth\": 0, \"ticks\": \"\"}}, \"type\": \"scattergeo\"}], \"scattergl\": [{\"marker\": {\"colorbar\": {\"outlinewidth\": 0, \"ticks\": \"\"}}, \"type\": \"scattergl\"}], \"scattermapbox\": [{\"marker\": {\"colorbar\": {\"outlinewidth\": 0, \"ticks\": \"\"}}, \"type\": \"scattermapbox\"}], \"scatterpolar\": [{\"marker\": {\"colorbar\": {\"outlinewidth\": 0, \"ticks\": \"\"}}, \"type\": \"scatterpolar\"}], \"scatterpolargl\": [{\"marker\": {\"colorbar\": {\"outlinewidth\": 0, \"ticks\": \"\"}}, \"type\": \"scatterpolargl\"}], \"scatterternary\": [{\"marker\": {\"colorbar\": {\"outlinewidth\": 0, \"ticks\": \"\"}}, \"type\": \"scatterternary\"}], \"surface\": [{\"colorbar\": {\"outlinewidth\": 0, \"ticks\": \"\"}, \"colorscale\": [[0.0, \"#0d0887\"], [0.1111111111111111, \"#46039f\"], [0.2222222222222222, \"#7201a8\"], [0.3333333333333333, \"#9c179e\"], [0.4444444444444444, \"#bd3786\"], [0.5555555555555556, \"#d8576b\"], [0.6666666666666666, \"#ed7953\"], [0.7777777777777778, \"#fb9f3a\"], [0.8888888888888888, \"#fdca26\"], [1.0, \"#f0f921\"]], \"type\": \"surface\"}], \"table\": [{\"cells\": {\"fill\": {\"color\": \"#EBF0F8\"}, \"line\": {\"color\": \"white\"}}, \"header\": {\"fill\": {\"color\": \"#C8D4E3\"}, \"line\": {\"color\": \"white\"}}, \"type\": \"table\"}]}, \"layout\": {\"annotationdefaults\": {\"arrowcolor\": \"#2a3f5f\", \"arrowhead\": 0, \"arrowwidth\": 1}, \"coloraxis\": {\"colorbar\": {\"outlinewidth\": 0, \"ticks\": \"\"}}, \"colorscale\": {\"diverging\": [[0, \"#8e0152\"], [0.1, \"#c51b7d\"], [0.2, \"#de77ae\"], [0.3, \"#f1b6da\"], [0.4, \"#fde0ef\"], [0.5, \"#f7f7f7\"], [0.6, \"#e6f5d0\"], [0.7, \"#b8e186\"], [0.8, \"#7fbc41\"], [0.9, \"#4d9221\"], [1, \"#276419\"]], \"sequential\": [[0.0, \"#0d0887\"], [0.1111111111111111, \"#46039f\"], [0.2222222222222222, \"#7201a8\"], [0.3333333333333333, \"#9c179e\"], [0.4444444444444444, \"#bd3786\"], [0.5555555555555556, \"#d8576b\"], [0.6666666666666666, \"#ed7953\"], [0.7777777777777778, \"#fb9f3a\"], [0.8888888888888888, \"#fdca26\"], [1.0, \"#f0f921\"]], \"sequentialminus\": [[0.0, \"#0d0887\"], [0.1111111111111111, \"#46039f\"], [0.2222222222222222, \"#7201a8\"], [0.3333333333333333, \"#9c179e\"], [0.4444444444444444, \"#bd3786\"], [0.5555555555555556, \"#d8576b\"], [0.6666666666666666, \"#ed7953\"], [0.7777777777777778, \"#fb9f3a\"], [0.8888888888888888, \"#fdca26\"], [1.0, \"#f0f921\"]]}, \"colorway\": [\"#636efa\", \"#EF553B\", \"#00cc96\", \"#ab63fa\", \"#FFA15A\", \"#19d3f3\", \"#FF6692\", \"#B6E880\", \"#FF97FF\", \"#FECB52\"], \"font\": {\"color\": \"#2a3f5f\"}, \"geo\": {\"bgcolor\": \"white\", \"lakecolor\": \"white\", \"landcolor\": \"#E5ECF6\", \"showlakes\": true, \"showland\": true, \"subunitcolor\": \"white\"}, \"hoverlabel\": {\"align\": \"left\"}, \"hovermode\": \"closest\", \"mapbox\": {\"style\": \"light\"}, \"paper_bgcolor\": \"white\", \"plot_bgcolor\": \"#E5ECF6\", \"polar\": {\"angularaxis\": {\"gridcolor\": \"white\", \"linecolor\": \"white\", \"ticks\": \"\"}, \"bgcolor\": \"#E5ECF6\", \"radialaxis\": {\"gridcolor\": \"white\", \"linecolor\": \"white\", \"ticks\": \"\"}}, \"scene\": {\"xaxis\": {\"backgroundcolor\": \"#E5ECF6\", \"gridcolor\": \"white\", \"gridwidth\": 2, \"linecolor\": \"white\", \"showbackground\": true, \"ticks\": \"\", \"zerolinecolor\": \"white\"}, \"yaxis\": {\"backgroundcolor\": \"#E5ECF6\", \"gridcolor\": \"white\", \"gridwidth\": 2, \"linecolor\": \"white\", \"showbackground\": true, \"ticks\": \"\", \"zerolinecolor\": \"white\"}, \"zaxis\": {\"backgroundcolor\": \"#E5ECF6\", \"gridcolor\": \"white\", \"gridwidth\": 2, \"linecolor\": \"white\", \"showbackground\": true, \"ticks\": \"\", \"zerolinecolor\": \"white\"}}, \"shapedefaults\": {\"line\": {\"color\": \"#2a3f5f\"}}, \"ternary\": {\"aaxis\": {\"gridcolor\": \"white\", \"linecolor\": \"white\", \"ticks\": \"\"}, \"baxis\": {\"gridcolor\": \"white\", \"linecolor\": \"white\", \"ticks\": \"\"}, \"bgcolor\": \"#E5ECF6\", \"caxis\": {\"gridcolor\": \"white\", \"linecolor\": \"white\", \"ticks\": \"\"}}, \"title\": {\"x\": 0.05}, \"xaxis\": {\"automargin\": true, \"gridcolor\": \"white\", \"linecolor\": \"white\", \"ticks\": \"\", \"title\": {\"standoff\": 15}, \"zerolinecolor\": \"white\", \"zerolinewidth\": 2}, \"yaxis\": {\"automargin\": true, \"gridcolor\": \"white\", \"linecolor\": \"white\", \"ticks\": \"\", \"title\": {\"standoff\": 15}, \"zerolinecolor\": \"white\", \"zerolinewidth\": 2}}}, \"xaxis\": {\"anchor\": \"y\", \"domain\": [0.0, 1.0], \"title\": {\"text\": \"Country\"}}, \"yaxis\": {\"anchor\": \"x\", \"domain\": [0.0, 1.0], \"title\": {\"text\": \"max of Total_cases\"}}},\n",
              "                        {\"responsive\": true}\n",
              "                    ).then(function(){\n",
              "                            \n",
              "var gd = document.getElementById('4c196436-01c4-4fe8-8ab7-2d9fd333700d');\n",
              "var x = new MutationObserver(function (mutations, observer) {{\n",
              "        var display = window.getComputedStyle(gd).display;\n",
              "        if (!display || display === 'none') {{\n",
              "            console.log([gd, 'removed!']);\n",
              "            Plotly.purge(gd);\n",
              "            observer.disconnect();\n",
              "        }}\n",
              "}});\n",
              "\n",
              "// Listen for the removal of the full notebook cells\n",
              "var notebookContainer = gd.closest('#notebook-container');\n",
              "if (notebookContainer) {{\n",
              "    x.observe(notebookContainer, {childList: true});\n",
              "}}\n",
              "\n",
              "// Listen for the clearing of the current output cell\n",
              "var outputEl = gd.closest('.output');\n",
              "if (outputEl) {{\n",
              "    x.observe(outputEl, {childList: true});\n",
              "}}\n",
              "\n",
              "                        })\n",
              "                };\n",
              "                \n",
              "            </script>\n",
              "        </div>\n",
              "</body>\n",
              "</html>"
            ]
          },
          "metadata": {
            "tags": []
          }
        }
      ]
    },
    {
      "cell_type": "code",
      "metadata": {
        "id": "wQV3URaPMruH",
        "colab_type": "code",
        "colab": {}
      },
      "source": [
        ""
      ],
      "execution_count": 0,
      "outputs": []
    }
  ]
}