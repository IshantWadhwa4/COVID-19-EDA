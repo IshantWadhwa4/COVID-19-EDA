{
  "nbformat": 4,
  "nbformat_minor": 0,
  "metadata": {
    "colab": {
      "name": "COVID-2019-India.ipynb",
      "provenance": [],
      "collapsed_sections": [],
      "authorship_tag": "ABX9TyMsfCkNtav41sOcwwTXMkDI",
      "include_colab_link": true
    },
    "kernelspec": {
      "name": "python3",
      "display_name": "Python 3"
    }
  },
  "cells": [
    {
      "cell_type": "markdown",
      "metadata": {
        "id": "view-in-github",
        "colab_type": "text"
      },
      "source": [
        "<a href=\"https://colab.research.google.com/github/IshantWadhwa4/COVID-19-EDA/blob/master/COVID_2019_India.ipynb\" target=\"_parent\"><img src=\"https://colab.research.google.com/assets/colab-badge.svg\" alt=\"Open In Colab\"/></a>"
      ]
    },
    {
      "cell_type": "markdown",
      "metadata": {
        "id": "eviED4ruFhbW",
        "colab_type": "text"
      },
      "source": [
        "## CORONA COVID-2019 India's Data "
      ]
    },
    {
      "cell_type": "markdown",
      "metadata": {
        "id": "rXeFqvufF7Ry",
        "colab_type": "text"
      },
      "source": [
        "### Step 1: Get Data \n",
        "\n",
        "Data Source is (https://data.humdata.org/dataset/5dff64bc-a671-48da-aa87-2ca40d7abf02)"
      ]
    },
    {
      "cell_type": "code",
      "metadata": {
        "id": "1Hjj9rTJFmtF",
        "colab_type": "code",
        "colab": {}
      },
      "source": [
        "import pandas as pd\n",
        "import numpy as np"
      ],
      "execution_count": 0,
      "outputs": []
    },
    {
      "cell_type": "code",
      "metadata": {
        "id": "i2ZZMPb4F_H3",
        "colab_type": "code",
        "colab": {}
      },
      "source": [
        "# world data of confirmed cases\n",
        "url_confirmed = 'https://raw.githubusercontent.com/CSSEGISandData/COVID-19/master/csse_covid_19_data/csse_covid_19_time_series/time_series_covid19_confirmed_global.csv'\n",
        "data_confirmed = pd.read_csv(url_confirmed)\n",
        "data_confirmed['Province/State'].fillna(data_confirmed['Country/Region'],inplace = True)"
      ],
      "execution_count": 0,
      "outputs": []
    },
    {
      "cell_type": "code",
      "metadata": {
        "id": "fLLRSSFMIoGV",
        "colab_type": "code",
        "colab": {}
      },
      "source": [
        "# world data of death cases\n",
        "url_Deaths = 'https://raw.githubusercontent.com/CSSEGISandData/COVID-19/master/csse_covid_19_data/csse_covid_19_time_series/time_series_covid19_deaths_global.csv'\n",
        "data_death = pd.read_csv(url_Deaths)\n",
        "data_death['Province/State'].fillna(data_death['Country/Region'],inplace = True)\n"
      ],
      "execution_count": 0,
      "outputs": []
    },
    {
      "cell_type": "code",
      "metadata": {
        "id": "guS-wRsxIp5b",
        "colab_type": "code",
        "colab": {}
      },
      "source": [
        "# world data of Recovered cases\n",
        "url_Recovered = 'https://raw.githubusercontent.com/CSSEGISandData/COVID-19/master/csse_covid_19_data/csse_covid_19_time_series/time_series_covid19_recovered_global.csv'\n",
        "data_Recovered = pd.read_csv(url_Recovered)\n",
        "data_Recovered['Province/State'].fillna(data_Recovered['Country/Region'],inplace = True)"
      ],
      "execution_count": 0,
      "outputs": []
    },
    {
      "cell_type": "code",
      "metadata": {
        "id": "YXTxxfh8K8OA",
        "colab_type": "code",
        "colab": {}
      },
      "source": [
        "data_confirmed = data_confirmed.melt(id_vars=[\"Province/State\", \"Country/Region\",\"Lat\",\"Long\"], \n",
        "        var_name=\"Date\", \n",
        "        value_name=\"confirmed\")"
      ],
      "execution_count": 0,
      "outputs": []
    },
    {
      "cell_type": "code",
      "metadata": {
        "id": "dm4ivpeQLFrn",
        "colab_type": "code",
        "colab": {}
      },
      "source": [
        "data_death = data_death.melt(id_vars=[\"Province/State\", \"Country/Region\",\"Lat\",\"Long\"], \n",
        "        var_name=\"Date\", \n",
        "        value_name=\"deaths\")"
      ],
      "execution_count": 0,
      "outputs": []
    },
    {
      "cell_type": "code",
      "metadata": {
        "id": "uucObIDSLHFl",
        "colab_type": "code",
        "colab": {}
      },
      "source": [
        "data_Recovered = data_Recovered.melt(id_vars=[\"Province/State\", \"Country/Region\",\"Lat\",\"Long\"], \n",
        "        var_name=\"Date\", \n",
        "        value_name=\"recovered\")"
      ],
      "execution_count": 0,
      "outputs": []
    },
    {
      "cell_type": "code",
      "metadata": {
        "id": "nDXtJZi3LJKH",
        "colab_type": "code",
        "colab": {}
      },
      "source": [
        "data = data_confirmed\n",
        "data['deaths'] = data_death['deaths']\n",
        "data['recovered'] = data_Recovered['recovered']"
      ],
      "execution_count": 0,
      "outputs": []
    },
    {
      "cell_type": "code",
      "metadata": {
        "id": "N5T7ZHeiLKyA",
        "colab_type": "code",
        "colab": {
          "base_uri": "https://localhost:8080/",
          "height": 257
        },
        "outputId": "6f42789e-8c4c-4815-9a1f-a9cb1ad84e5b"
      },
      "source": [
        "data.info()"
      ],
      "execution_count": 13,
      "outputs": [
        {
          "output_type": "stream",
          "text": [
            "<class 'pandas.core.frame.DataFrame'>\n",
            "RangeIndex: 15680 entries, 0 to 15679\n",
            "Data columns (total 8 columns):\n",
            "Province/State    15680 non-null object\n",
            "Country/Region    15680 non-null object\n",
            "Lat               15680 non-null float64\n",
            "Long              15680 non-null float64\n",
            "Date              15680 non-null object\n",
            "confirmed         15680 non-null int64\n",
            "deaths            15680 non-null int64\n",
            "recovered         14679 non-null float64\n",
            "dtypes: float64(3), int64(2), object(3)\n",
            "memory usage: 980.1+ KB\n"
          ],
          "name": "stdout"
        }
      ]
    },
    {
      "cell_type": "code",
      "metadata": {
        "id": "__8_Ff8nLXYR",
        "colab_type": "code",
        "colab": {}
      },
      "source": [
        "data_india = data[data['Country/Region'] == 'India']"
      ],
      "execution_count": 0,
      "outputs": []
    },
    {
      "cell_type": "code",
      "metadata": {
        "id": "KT-ZndAgLfki",
        "colab_type": "code",
        "colab": {}
      },
      "source": [
        "data_india.reset_index(drop=True, inplace=True)"
      ],
      "execution_count": 0,
      "outputs": []
    },
    {
      "cell_type": "code",
      "metadata": {
        "id": "a9nopBS4L55n",
        "colab_type": "code",
        "colab": {
          "base_uri": "https://localhost:8080/",
          "height": 424
        },
        "outputId": "270db8dd-a2dd-4040-cfb8-1d88795eb297"
      },
      "source": [
        "data_india"
      ],
      "execution_count": 24,
      "outputs": [
        {
          "output_type": "execute_result",
          "data": {
            "text/html": [
              "<div>\n",
              "<style scoped>\n",
              "    .dataframe tbody tr th:only-of-type {\n",
              "        vertical-align: middle;\n",
              "    }\n",
              "\n",
              "    .dataframe tbody tr th {\n",
              "        vertical-align: top;\n",
              "    }\n",
              "\n",
              "    .dataframe thead th {\n",
              "        text-align: right;\n",
              "    }\n",
              "</style>\n",
              "<table border=\"1\" class=\"dataframe\">\n",
              "  <thead>\n",
              "    <tr style=\"text-align: right;\">\n",
              "      <th></th>\n",
              "      <th>Province/State</th>\n",
              "      <th>Country/Region</th>\n",
              "      <th>Lat</th>\n",
              "      <th>Long</th>\n",
              "      <th>Date</th>\n",
              "      <th>confirmed</th>\n",
              "      <th>deaths</th>\n",
              "      <th>recovered</th>\n",
              "    </tr>\n",
              "  </thead>\n",
              "  <tbody>\n",
              "    <tr>\n",
              "      <th>0</th>\n",
              "      <td>India</td>\n",
              "      <td>India</td>\n",
              "      <td>21.0</td>\n",
              "      <td>78.0</td>\n",
              "      <td>1/22/20</td>\n",
              "      <td>0</td>\n",
              "      <td>0</td>\n",
              "      <td>0.0</td>\n",
              "    </tr>\n",
              "    <tr>\n",
              "      <th>1</th>\n",
              "      <td>India</td>\n",
              "      <td>India</td>\n",
              "      <td>21.0</td>\n",
              "      <td>78.0</td>\n",
              "      <td>1/23/20</td>\n",
              "      <td>0</td>\n",
              "      <td>0</td>\n",
              "      <td>0.0</td>\n",
              "    </tr>\n",
              "    <tr>\n",
              "      <th>2</th>\n",
              "      <td>India</td>\n",
              "      <td>India</td>\n",
              "      <td>21.0</td>\n",
              "      <td>78.0</td>\n",
              "      <td>1/24/20</td>\n",
              "      <td>0</td>\n",
              "      <td>0</td>\n",
              "      <td>0.0</td>\n",
              "    </tr>\n",
              "    <tr>\n",
              "      <th>3</th>\n",
              "      <td>India</td>\n",
              "      <td>India</td>\n",
              "      <td>21.0</td>\n",
              "      <td>78.0</td>\n",
              "      <td>1/25/20</td>\n",
              "      <td>0</td>\n",
              "      <td>0</td>\n",
              "      <td>0.0</td>\n",
              "    </tr>\n",
              "    <tr>\n",
              "      <th>4</th>\n",
              "      <td>India</td>\n",
              "      <td>India</td>\n",
              "      <td>21.0</td>\n",
              "      <td>78.0</td>\n",
              "      <td>1/26/20</td>\n",
              "      <td>0</td>\n",
              "      <td>0</td>\n",
              "      <td>0.0</td>\n",
              "    </tr>\n",
              "    <tr>\n",
              "      <th>...</th>\n",
              "      <td>...</td>\n",
              "      <td>...</td>\n",
              "      <td>...</td>\n",
              "      <td>...</td>\n",
              "      <td>...</td>\n",
              "      <td>...</td>\n",
              "      <td>...</td>\n",
              "      <td>...</td>\n",
              "    </tr>\n",
              "    <tr>\n",
              "      <th>59</th>\n",
              "      <td>India</td>\n",
              "      <td>India</td>\n",
              "      <td>21.0</td>\n",
              "      <td>78.0</td>\n",
              "      <td>3/21/20</td>\n",
              "      <td>330</td>\n",
              "      <td>4</td>\n",
              "      <td>0.0</td>\n",
              "    </tr>\n",
              "    <tr>\n",
              "      <th>60</th>\n",
              "      <td>India</td>\n",
              "      <td>India</td>\n",
              "      <td>21.0</td>\n",
              "      <td>78.0</td>\n",
              "      <td>3/22/20</td>\n",
              "      <td>396</td>\n",
              "      <td>7</td>\n",
              "      <td>0.0</td>\n",
              "    </tr>\n",
              "    <tr>\n",
              "      <th>61</th>\n",
              "      <td>India</td>\n",
              "      <td>India</td>\n",
              "      <td>21.0</td>\n",
              "      <td>78.0</td>\n",
              "      <td>3/23/20</td>\n",
              "      <td>499</td>\n",
              "      <td>10</td>\n",
              "      <td>0.0</td>\n",
              "    </tr>\n",
              "    <tr>\n",
              "      <th>62</th>\n",
              "      <td>India</td>\n",
              "      <td>India</td>\n",
              "      <td>21.0</td>\n",
              "      <td>78.0</td>\n",
              "      <td>3/24/20</td>\n",
              "      <td>536</td>\n",
              "      <td>10</td>\n",
              "      <td>0.0</td>\n",
              "    </tr>\n",
              "    <tr>\n",
              "      <th>63</th>\n",
              "      <td>India</td>\n",
              "      <td>India</td>\n",
              "      <td>21.0</td>\n",
              "      <td>78.0</td>\n",
              "      <td>3/25/20</td>\n",
              "      <td>657</td>\n",
              "      <td>12</td>\n",
              "      <td>0.0</td>\n",
              "    </tr>\n",
              "  </tbody>\n",
              "</table>\n",
              "<p>64 rows × 8 columns</p>\n",
              "</div>"
            ],
            "text/plain": [
              "   Province/State Country/Region   Lat  ...  confirmed deaths  recovered\n",
              "0           India          India  21.0  ...          0      0        0.0\n",
              "1           India          India  21.0  ...          0      0        0.0\n",
              "2           India          India  21.0  ...          0      0        0.0\n",
              "3           India          India  21.0  ...          0      0        0.0\n",
              "4           India          India  21.0  ...          0      0        0.0\n",
              "..            ...            ...   ...  ...        ...    ...        ...\n",
              "59          India          India  21.0  ...        330      4        0.0\n",
              "60          India          India  21.0  ...        396      7        0.0\n",
              "61          India          India  21.0  ...        499     10        0.0\n",
              "62          India          India  21.0  ...        536     10        0.0\n",
              "63          India          India  21.0  ...        657     12        0.0\n",
              "\n",
              "[64 rows x 8 columns]"
            ]
          },
          "metadata": {
            "tags": []
          },
          "execution_count": 24
        }
      ]
    },
    {
      "cell_type": "code",
      "metadata": {
        "id": "ybI6GNswL7PZ",
        "colab_type": "code",
        "colab": {
          "base_uri": "https://localhost:8080/",
          "height": 257
        },
        "outputId": "8e072388-374f-454d-a8ad-953b08db4780"
      },
      "source": [
        "data_india.info()\n",
        "\n"
      ],
      "execution_count": 23,
      "outputs": [
        {
          "output_type": "stream",
          "text": [
            "<class 'pandas.core.frame.DataFrame'>\n",
            "RangeIndex: 64 entries, 0 to 63\n",
            "Data columns (total 8 columns):\n",
            "Province/State    64 non-null object\n",
            "Country/Region    64 non-null object\n",
            "Lat               64 non-null float64\n",
            "Long              64 non-null float64\n",
            "Date              64 non-null object\n",
            "confirmed         64 non-null int64\n",
            "deaths            64 non-null int64\n",
            "recovered         64 non-null float64\n",
            "dtypes: float64(3), int64(2), object(3)\n",
            "memory usage: 4.1+ KB\n"
          ],
          "name": "stdout"
        }
      ]
    },
    {
      "cell_type": "code",
      "metadata": {
        "id": "a379fPLrMHzb",
        "colab_type": "code",
        "colab": {
          "base_uri": "https://localhost:8080/",
          "height": 109
        },
        "outputId": "6ea37605-d57b-4c52-a53e-8eeffe94c720"
      },
      "source": [
        "data_india['recovered'].fillna(0,inplace=True)"
      ],
      "execution_count": 22,
      "outputs": [
        {
          "output_type": "stream",
          "text": [
            "/usr/local/lib/python3.6/dist-packages/pandas/core/generic.py:6287: SettingWithCopyWarning: \n",
            "A value is trying to be set on a copy of a slice from a DataFrame\n",
            "\n",
            "See the caveats in the documentation: http://pandas.pydata.org/pandas-docs/stable/user_guide/indexing.html#returning-a-view-versus-a-copy\n",
            "  self._update_inplace(new_data)\n"
          ],
          "name": "stderr"
        }
      ]
    },
    {
      "cell_type": "code",
      "metadata": {
        "id": "3mIrl5fiMS3s",
        "colab_type": "code",
        "colab": {
          "base_uri": "https://localhost:8080/",
          "height": 35
        },
        "outputId": "116a1c08-cc17-4f9b-9749-d6684ac83f7f"
      },
      "source": [
        "sum(data_india['recovered'])"
      ],
      "execution_count": 25,
      "outputs": [
        {
          "output_type": "execute_result",
          "data": {
            "text/plain": [
              "3108.0"
            ]
          },
          "metadata": {
            "tags": []
          },
          "execution_count": 25
        }
      ]
    },
    {
      "cell_type": "code",
      "metadata": {
        "id": "v76n_-qcMqXd",
        "colab_type": "code",
        "colab": {}
      },
      "source": [
        "import seaborn as sns\n",
        "import matplotlib.pyplot as plt"
      ],
      "execution_count": 0,
      "outputs": []
    },
    {
      "cell_type": "code",
      "metadata": {
        "id": "eRnfU4cCNftT",
        "colab_type": "code",
        "colab": {
          "base_uri": "https://localhost:8080/",
          "height": 387
        },
        "outputId": "bcf3737d-1070-42f2-d689-92cb152202bc"
      },
      "source": [
        "sns.lmplot(x='Date',y='confirmed',data=data_india[data_india['Date'] > '3/21/20'],fit_reg=False)"
      ],
      "execution_count": 36,
      "outputs": [
        {
          "output_type": "execute_result",
          "data": {
            "text/plain": [
              "<seaborn.axisgrid.FacetGrid at 0x7f4e30fffcf8>"
            ]
          },
          "metadata": {
            "tags": []
          },
          "execution_count": 36
        },
        {
          "output_type": "display_data",
          "data": {
            "image/png": "[encoded data removed]",
            "text/plain": [
              "<Figure size 360x360 with 1 Axes>"
            ]
          },
          "metadata": {
            "tags": []
          }
        }
      ]
    },
    {
      "cell_type": "code",
      "metadata": {
        "id": "jo-AEM9LNymj",
        "colab_type": "code",
        "colab": {}
      },
      "source": [
        ""
      ],
      "execution_count": 0,
      "outputs": []
    }
  ]
}